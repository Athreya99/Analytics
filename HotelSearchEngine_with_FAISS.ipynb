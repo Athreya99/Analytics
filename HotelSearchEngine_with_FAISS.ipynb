{
  "nbformat": 4,
  "nbformat_minor": 0,
  "metadata": {
    "colab": {
      "provenance": [],
      "include_colab_link": true
    },
    "kernelspec": {
      "name": "python3",
      "display_name": "Python 3"
    },
    "language_info": {
      "name": "python"
    }
  },
  "cells": [
    {
      "cell_type": "markdown",
      "metadata": {
        "id": "view-in-github",
        "colab_type": "text"
      },
      "source": [
        "<a href=\"https://colab.research.google.com/github/Athreya99/Analytics/blob/main/HotelSearchEngine_with_FAISS.ipynb\" target=\"_parent\"><img src=\"https://colab.research.google.com/assets/colab-badge.svg\" alt=\"Open In Colab\"/></a>"
      ]
    },
    {
      "cell_type": "code",
      "source": [
        "\n",
        "#  Hotel listings clustering and search\n",
        "# Dataset: https://www.kaggle.com/datasets/hamzafarooq50/hotel-listings-and-reviews\n",
        "# Country: Bali\n",
        "\n",
        "!pip install -q faiss-cpu\n",
        "!pip install -q sentence_transformers\n",
        "!pip install -q nltk\n",
        "!pip install -q kaggle\n",
        "from google.colab import files\n",
        "files.upload()\n",
        "!mkdir ~/.kaggle\n",
        "!cp kaggle.json ~/.kaggle/\n",
        "!chmod 600 ~/.kaggle/kaggle.json\n",
        "# !kaggle datasets list\n",
        "!kaggle datasets download -d hamzafarooq50/hotel-listings-and-reviews\n",
        "!mkdir train\n",
        "!unzip -q hotel-listings-and-reviews.zip -d train"
      ],
      "metadata": {
        "id": "dTXbGFIDM75N",
        "colab": {
          "base_uri": "https://localhost:8080/",
          "height": 142
        },
        "outputId": "9c4e0891-db07-457d-db01-f01553483541"
      },
      "execution_count": null,
      "outputs": [
        {
          "output_type": "display_data",
          "data": {
            "text/plain": [
              "<IPython.core.display.HTML object>"
            ],
            "text/html": [
              "\n",
              "     <input type=\"file\" id=\"files-a486c1ad-60b8-4772-b133-6873b8d3bdea\" name=\"files[]\" multiple disabled\n",
              "        style=\"border:none\" />\n",
              "     <output id=\"result-a486c1ad-60b8-4772-b133-6873b8d3bdea\">\n",
              "      Upload widget is only available when the cell has been executed in the\n",
              "      current browser session. Please rerun this cell to enable.\n",
              "      </output>\n",
              "      <script>// Copyright 2017 Google LLC\n",
              "//\n",
              "// Licensed under the Apache License, Version 2.0 (the \"License\");\n",
              "// you may not use this file except in compliance with the License.\n",
              "// You may obtain a copy of the License at\n",
              "//\n",
              "//      http://www.apache.org/licenses/LICENSE-2.0\n",
              "//\n",
              "// Unless required by applicable law or agreed to in writing, software\n",
              "// distributed under the License is distributed on an \"AS IS\" BASIS,\n",
              "// WITHOUT WARRANTIES OR CONDITIONS OF ANY KIND, either express or implied.\n",
              "// See the License for the specific language governing permissions and\n",
              "// limitations under the License.\n",
              "\n",
              "/**\n",
              " * @fileoverview Helpers for google.colab Python module.\n",
              " */\n",
              "(function(scope) {\n",
              "function span(text, styleAttributes = {}) {\n",
              "  const element = document.createElement('span');\n",
              "  element.textContent = text;\n",
              "  for (const key of Object.keys(styleAttributes)) {\n",
              "    element.style[key] = styleAttributes[key];\n",
              "  }\n",
              "  return element;\n",
              "}\n",
              "\n",
              "// Max number of bytes which will be uploaded at a time.\n",
              "const MAX_PAYLOAD_SIZE = 100 * 1024;\n",
              "\n",
              "function _uploadFiles(inputId, outputId) {\n",
              "  const steps = uploadFilesStep(inputId, outputId);\n",
              "  const outputElement = document.getElementById(outputId);\n",
              "  // Cache steps on the outputElement to make it available for the next call\n",
              "  // to uploadFilesContinue from Python.\n",
              "  outputElement.steps = steps;\n",
              "\n",
              "  return _uploadFilesContinue(outputId);\n",
              "}\n",
              "\n",
              "// This is roughly an async generator (not supported in the browser yet),\n",
              "// where there are multiple asynchronous steps and the Python side is going\n",
              "// to poll for completion of each step.\n",
              "// This uses a Promise to block the python side on completion of each step,\n",
              "// then passes the result of the previous step as the input to the next step.\n",
              "function _uploadFilesContinue(outputId) {\n",
              "  const outputElement = document.getElementById(outputId);\n",
              "  const steps = outputElement.steps;\n",
              "\n",
              "  const next = steps.next(outputElement.lastPromiseValue);\n",
              "  return Promise.resolve(next.value.promise).then((value) => {\n",
              "    // Cache the last promise value to make it available to the next\n",
              "    // step of the generator.\n",
              "    outputElement.lastPromiseValue = value;\n",
              "    return next.value.response;\n",
              "  });\n",
              "}\n",
              "\n",
              "/**\n",
              " * Generator function which is called between each async step of the upload\n",
              " * process.\n",
              " * @param {string} inputId Element ID of the input file picker element.\n",
              " * @param {string} outputId Element ID of the output display.\n",
              " * @return {!Iterable<!Object>} Iterable of next steps.\n",
              " */\n",
              "function* uploadFilesStep(inputId, outputId) {\n",
              "  const inputElement = document.getElementById(inputId);\n",
              "  inputElement.disabled = false;\n",
              "\n",
              "  const outputElement = document.getElementById(outputId);\n",
              "  outputElement.innerHTML = '';\n",
              "\n",
              "  const pickedPromise = new Promise((resolve) => {\n",
              "    inputElement.addEventListener('change', (e) => {\n",
              "      resolve(e.target.files);\n",
              "    });\n",
              "  });\n",
              "\n",
              "  const cancel = document.createElement('button');\n",
              "  inputElement.parentElement.appendChild(cancel);\n",
              "  cancel.textContent = 'Cancel upload';\n",
              "  const cancelPromise = new Promise((resolve) => {\n",
              "    cancel.onclick = () => {\n",
              "      resolve(null);\n",
              "    };\n",
              "  });\n",
              "\n",
              "  // Wait for the user to pick the files.\n",
              "  const files = yield {\n",
              "    promise: Promise.race([pickedPromise, cancelPromise]),\n",
              "    response: {\n",
              "      action: 'starting',\n",
              "    }\n",
              "  };\n",
              "\n",
              "  cancel.remove();\n",
              "\n",
              "  // Disable the input element since further picks are not allowed.\n",
              "  inputElement.disabled = true;\n",
              "\n",
              "  if (!files) {\n",
              "    return {\n",
              "      response: {\n",
              "        action: 'complete',\n",
              "      }\n",
              "    };\n",
              "  }\n",
              "\n",
              "  for (const file of files) {\n",
              "    const li = document.createElement('li');\n",
              "    li.append(span(file.name, {fontWeight: 'bold'}));\n",
              "    li.append(span(\n",
              "        `(${file.type || 'n/a'}) - ${file.size} bytes, ` +\n",
              "        `last modified: ${\n",
              "            file.lastModifiedDate ? file.lastModifiedDate.toLocaleDateString() :\n",
              "                                    'n/a'} - `));\n",
              "    const percent = span('0% done');\n",
              "    li.appendChild(percent);\n",
              "\n",
              "    outputElement.appendChild(li);\n",
              "\n",
              "    const fileDataPromise = new Promise((resolve) => {\n",
              "      const reader = new FileReader();\n",
              "      reader.onload = (e) => {\n",
              "        resolve(e.target.result);\n",
              "      };\n",
              "      reader.readAsArrayBuffer(file);\n",
              "    });\n",
              "    // Wait for the data to be ready.\n",
              "    let fileData = yield {\n",
              "      promise: fileDataPromise,\n",
              "      response: {\n",
              "        action: 'continue',\n",
              "      }\n",
              "    };\n",
              "\n",
              "    // Use a chunked sending to avoid message size limits. See b/62115660.\n",
              "    let position = 0;\n",
              "    do {\n",
              "      const length = Math.min(fileData.byteLength - position, MAX_PAYLOAD_SIZE);\n",
              "      const chunk = new Uint8Array(fileData, position, length);\n",
              "      position += length;\n",
              "\n",
              "      const base64 = btoa(String.fromCharCode.apply(null, chunk));\n",
              "      yield {\n",
              "        response: {\n",
              "          action: 'append',\n",
              "          file: file.name,\n",
              "          data: base64,\n",
              "        },\n",
              "      };\n",
              "\n",
              "      let percentDone = fileData.byteLength === 0 ?\n",
              "          100 :\n",
              "          Math.round((position / fileData.byteLength) * 100);\n",
              "      percent.textContent = `${percentDone}% done`;\n",
              "\n",
              "    } while (position < fileData.byteLength);\n",
              "  }\n",
              "\n",
              "  // All done.\n",
              "  yield {\n",
              "    response: {\n",
              "      action: 'complete',\n",
              "    }\n",
              "  };\n",
              "}\n",
              "\n",
              "scope.google = scope.google || {};\n",
              "scope.google.colab = scope.google.colab || {};\n",
              "scope.google.colab._files = {\n",
              "  _uploadFiles,\n",
              "  _uploadFilesContinue,\n",
              "};\n",
              "})(self);\n",
              "</script> "
            ]
          },
          "metadata": {}
        },
        {
          "output_type": "stream",
          "name": "stdout",
          "text": [
            "Saving kaggle.json to kaggle (3).json\n",
            "mkdir: cannot create directory ‘/root/.kaggle’: File exists\n",
            "hotel-listings-and-reviews.zip: Skipping, found more recently modified local copy (use --force to force download)\n",
            "mkdir: cannot create directory ‘train’: File exists\n",
            "replace train/HotelListInAthens__en2019100120191005.csv? [y]es, [n]o, [A]ll, [N]one, [r]ename: A\n"
          ]
        }
      ]
    },
    {
      "cell_type": "markdown",
      "source": [
        "#Prepping Dataset for LDA Topic Modeling and FAISS Querying"
      ],
      "metadata": {
        "id": "MyEMmkrUiHoe"
      }
    },
    {
      "cell_type": "markdown",
      "source": [
        "##Importing Libraries for Data Cleaning, Preprocessing, LDA, and FAISS"
      ],
      "metadata": {
        "id": "sEAwhx2HikQU"
      }
    },
    {
      "cell_type": "code",
      "source": [
        "import gensim\n",
        "from gensim.utils import simple_preprocess\n",
        "from gensim.parsing.preprocessing import STOPWORDS\n",
        "from gensim import corpora, models\n",
        "from pprint import pprint\n",
        "import numpy as np\n",
        "np.random.seed(1337)\n",
        "from nltk.stem import WordNetLemmatizer, SnowballStemmer\n",
        "from nltk.stem.porter import *\n",
        "import nltk\n",
        "nltk.download('wordnet')\n",
        "import requests\n",
        "import os\n",
        "from sentence_transformers import SentenceTransformer\n",
        "import faiss\n",
        "import time\n",
        "import pandas as pd\n",
        "import matplotlib.pyplot as plt\n",
        "%matplotlib inline\n",
        "import seaborn as sns\n",
        "from scipy.spatial.distance import cdist\n",
        "from sklearn.cluster import KMeans\n",
        "from sklearn import metrics\n",
        "from sklearn import preprocessing"
      ],
      "metadata": {
        "id": "-4DWgttU9PbZ",
        "colab": {
          "base_uri": "https://localhost:8080/"
        },
        "outputId": "596c2b93-6734-463b-f710-f81e5b43459f"
      },
      "execution_count": null,
      "outputs": [
        {
          "output_type": "stream",
          "name": "stderr",
          "text": [
            "[nltk_data] Downloading package wordnet to /root/nltk_data...\n",
            "[nltk_data]   Package wordnet is already up-to-date!\n"
          ]
        }
      ]
    },
    {
      "cell_type": "markdown",
      "source": [
        "##Ingest Dataset from Imported Kaggle CSV's\n",
        "\n",
        "*   Created a Pandas Dataframe by reading hotelReviewsInBali.csv file\n",
        "*   We dropped the columns 'hotelUrl' and 'review_date' from the dataframe\n",
        "*   We dropped the duplicate rows if any, and  kept the first instance of the duplicate row\n",
        "*   Dropped missing values in the dataframe"
      ],
      "metadata": {
        "id": "NfRj9WBBi0hh"
      }
    },
    {
      "cell_type": "code",
      "source": [
        "bali_hotel_list = 'train/HotelListInBali__en2019100120191005.csv'\n",
        "bali_hotel_review = 'train/hotelReviewsInBali__en2019100120191005.csv'\n",
        "df_raw = pd.read_csv(bali_hotel_review, on_bad_lines='skip')\n",
        "df_raw = df_raw.rename(columns={'Unnamed: 0': 'index'})\n",
        "print(df_raw.columns)\n",
        "df_raw = df_raw.drop(['hotelUrl', 'review_date'], axis=1)\n",
        "print(df_raw.shape)\n",
        "# keep first duplicate row and drop the other duplicates\n",
        "df_raw = df_raw.drop_duplicates()\n",
        "print(df_raw.shape)\n",
        "# drop missing values\n",
        "df_raw = df_raw.dropna()\n",
        "print(df_raw.shape)\n",
        "\n",
        "documents = df_raw.copy(deep=True)\n",
        "documents = documents.drop(['hotelName'], axis=1)\n",
        "cols = documents.columns.tolist()[-1:] + documents.columns.tolist()[:-1]\n",
        "documents = documents[cols] #reorder the columns\n",
        "print(documents.sample(n=10, replace=False, random_state=1)) #print random sample of 10 rows"
      ],
      "metadata": {
        "id": "qwUxIT50Wqn3",
        "colab": {
          "base_uri": "https://localhost:8080/"
        },
        "outputId": "5191d4ce-0bdd-4e40-eefb-1642c4b9563a"
      },
      "execution_count": null,
      "outputs": [
        {
          "output_type": "stream",
          "name": "stdout",
          "text": [
            "Index(['index', 'review_body', 'review_date', 'hotelName', 'hotelUrl'], dtype='object')\n",
            "(1684, 3)\n",
            "(1684, 3)\n",
            "(1684, 3)\n",
            "                                            review_body  index\n",
            "943   We had a lovely beach view room, very spacious...    943\n",
            "1575  We came to Hideaway Villas to recharge.The GM ...   1575\n",
            "1314  If you want a place to relax this it ! It’s wo...   1314\n",
            "577   A beautiful place and very friendly service. L...    577\n",
            "1219  This establishment deserves 10 stars! From the...   1219\n",
            "976   A lovely property with some superb bungalows a...    976\n",
            "729   THE BEST HOTEL EVER. beautiful design. Super f...    729\n",
            "572   I loved my stay at the Sankara. I had a privat...    572\n",
            "1257  We recently stayed 6 nights at the Holiday Inn...   1257\n",
            "995   Our first stay here at Pinkcoco and we just lo...    995\n"
          ]
        }
      ]
    },
    {
      "cell_type": "markdown",
      "source": [
        "##Define LDA preprocessing functions"
      ],
      "metadata": {
        "id": "zvIOiNT1jG1L"
      }
    },
    {
      "cell_type": "markdown",
      "source": [
        "Here we are trying to to reduce the number of unique words in a text document and group together words with similar meanings, which can make it easier to analyze the text.\n",
        "\n",
        "preprocess(text):\n",
        "\n",
        "*   gensim's simple_preprocess() : tokenizes the text, which means it breaks the text into individual words or tokens.\n",
        "*   Next, it checks if each token is not a stopword (common words like \"the\" or \"and\" that doesn't carry much meaning), and is longer than three characters.\n",
        "*   If the token passes these checks, it applies the lemmatize_stemming()\n",
        "\n",
        "lemmatize_stemming(text):\n",
        "*   WordNetLemmatizer : this reduces each word to its base form i.e dogs to dog.\n",
        "*   SnowballStemmer   : this further reduces each word to its root form i.e running to run\n"
      ],
      "metadata": {
        "id": "wIAHU6d6yDSo"
      }
    },
    {
      "cell_type": "code",
      "source": [
        "def lemmatize_stemming(text):\n",
        "    return SnowballStemmer(language='english').stem(WordNetLemmatizer().lemmatize(text, pos='v')) #this lemmatizes the input word using the WordNetLemmatizer, then applies stemming using the SnowballStemmer\n",
        "def preprocess(text):\n",
        "    result = []\n",
        "    for token in gensim.utils.simple_preprocess(text): #iiterates over each token in the preprocessed text\n",
        "        if token not in gensim.parsing.preprocessing.STOPWORDS and len(token) > 3: #checks if the token is not a stopword\n",
        "            result.append(lemmatize_stemming(token)) #lemmatize and add it to the result list\n",
        "    return result"
      ],
      "metadata": {
        "id": "_hq1en8sYrht"
      },
      "execution_count": null,
      "outputs": []
    },
    {
      "cell_type": "markdown",
      "source": [
        "##Create the Processed Reviews and Corpuses\n",
        "\n",
        "*  Here we are processing the text reviews in the 'review_body' column of the documents dataframe using the preprocess function defined earlier.\n",
        "*   Using corpora.Dictionary() method we are mapping each token to a unique integer ID.\n",
        "\n",
        "\n",
        "*   doc2bow() method is used to create a bag-of-words (BoW). The BoW representation is a list of (token_id, token_count) where token_count is the number of times the token appears in the document.\n",
        "*   models.TfidfModel() is used to weight the importance of each token in a document based on its frequency in the document and its frequency in the entire corpus.\n",
        "*   TF-IDF stands for Term Frequency-Inverse Document Frequency."
      ],
      "metadata": {
        "id": "wDG3GqZJjN88"
      }
    },
    {
      "cell_type": "code",
      "source": [
        "processed_docs = documents['review_body'].map(preprocess) #applies preprocess function to each document in the 'review_body' column\n",
        "dictionary = gensim.corpora.Dictionary(processed_docs) #map each unique token in the documents to a unique integer ID.\n",
        "dictionary.filter_extremes(no_below=5, no_above=0.8, keep_n=100000) #remove token that appear in fewer than 5 documents or more than 80% of documents\n",
        "bow_corpus = [dictionary.doc2bow(doc) for doc in processed_docs] #creates a bag of words and maps eavh to token to integer ID and count the freq of tokens\n",
        "tfidf = models.TfidfModel(bow_corpus)\n",
        "corpus_tfidf = tfidf[bow_corpus] #applies the TF-IDF weighting to the bag-of-words corpus"
      ],
      "metadata": {
        "id": "H3DmQKFA6Ri7"
      },
      "execution_count": null,
      "outputs": []
    },
    {
      "cell_type": "markdown",
      "source": [
        "#Run TFIDF LDA Topic modeling with 4 topics"
      ],
      "metadata": {
        "id": "U_SUTp0wji3F"
      }
    },
    {
      "cell_type": "markdown",
      "source": [
        "*   Here we are training an LDA (Latent Dirichlet Allocation) model on a corpus of documents represented as a TF-IDF (Term Frequency-Inverse Document Frequency) matrix.\n",
        "*  Here we are creating a model with 4 topics, and then printing out the top words for each topic along with the weight of each word in that topic.\n",
        "*  The weight represents the importance of that word in that topic, and is calculated based on how frequently that word occurs in documents that are assigned to that topic.\n",
        "\n",
        "\n"
      ],
      "metadata": {
        "id": "zezMqm6iyUjk"
      }
    },
    {
      "cell_type": "code",
      "source": [
        "num_topics = 4  #sets the number of topics that the LDA model should identify in the corpus.\n",
        "alpha = 1/num_topics #sets the hyperparameter alpha for the LDA model(controls the sparsity of the topic distribution for each document)\n",
        "eta = 'auto' #sets the hyperparameter eta for the LDA model (controls the sparsity of the word distribution for each topic)\n",
        "lda_model_tfidf = gensim.models.LdaMulticore(corpus_tfidf, num_topics=num_topics, id2word=dictionary, passes=2, workers=4, alpha=alpha, eta=eta) #create instance of LDA model\n",
        "for idx, topic in lda_model_tfidf.print_topics(-1): #loops over each topic identified by the LDA model and prints the top words in that topic.\n",
        "    print('Topic: {}: {}'.format(idx, topic))"
      ],
      "metadata": {
        "id": "hCdTn2C6-BxA",
        "colab": {
          "base_uri": "https://localhost:8080/"
        },
        "outputId": "d02e62ac-150f-4fd3-fe6b-4c9588b1eafd"
      },
      "execution_count": null,
      "outputs": [
        {
          "output_type": "stream",
          "name": "stderr",
          "text": [
            "WARNING:gensim.models.ldamulticore:too few updates, training might not converge; consider increasing the number of passes or iterations to improve accuracy\n"
          ]
        },
        {
          "output_type": "stream",
          "name": "stdout",
          "text": [
            "Topic: 0: 0.006*\"hotel\" + 0.005*\"love\" + 0.005*\"beauti\" + 0.005*\"resort\" + 0.005*\"view\" + 0.005*\"great\" + 0.004*\"stay\" + 0.004*\"room\" + 0.004*\"night\" + 0.004*\"villa\"\n",
            "Topic: 1: 0.006*\"good\" + 0.005*\"hotel\" + 0.005*\"villa\" + 0.005*\"room\" + 0.005*\"nice\" + 0.005*\"breakfast\" + 0.005*\"place\" + 0.005*\"great\" + 0.005*\"clean\" + 0.005*\"love\"\n",
            "Topic: 2: 0.006*\"good\" + 0.006*\"nice\" + 0.006*\"hotel\" + 0.006*\"beach\" + 0.005*\"help\" + 0.005*\"great\" + 0.005*\"place\" + 0.004*\"hostel\" + 0.004*\"clean\" + 0.004*\"room\"\n",
            "Topic: 3: 0.006*\"hotel\" + 0.005*\"resort\" + 0.004*\"servic\" + 0.004*\"great\" + 0.004*\"room\" + 0.004*\"beach\" + 0.004*\"beauti\" + 0.004*\"stay\" + 0.004*\"restaur\" + 0.004*\"love\"\n"
          ]
        }
      ]
    },
    {
      "cell_type": "markdown",
      "source": [
        "##Show Heatmap/Clustering of the LDA topic modeling"
      ],
      "metadata": {
        "id": "S9TZrSumjt2V"
      }
    },
    {
      "cell_type": "code",
      "source": [
        "df_cluster = df_raw.copy(deep=True)\n",
        "df_listings = pd.read_csv(bali_hotel_list, on_bad_lines='skip') #creating new dataframe\n",
        "# print(df_cluster.columns)\n",
        "# print(df_listings.columns)\n",
        "df_listings = df_listings.rename(columns={'Unnamed: 0': 'index'}) #renaming the column name to index\n",
        "df_listings = df_listings.drop(['url', 'locality', 'tripadvisor_rating', 'checkIn', 'checkOut', 'price_per_night','booking_provider', 'no_of_deals', 'hotel_features'], axis=1) #drop columns that are not necessary for the analysis\n",
        "hotel_dict = dict(zip(df_listings.index, df_listings.hotel_name))\n",
        "\n",
        "df_cluster['corpus_tfidf'] = corpus_tfidf #created column in df_cluster which contains the TF-IDF scores for hotel review corpus\n",
        "hotel_list = df_cluster['hotelName'].unique() #create a list of unique hotels\n",
        "df_cluster['hotel_id'] = df_cluster['hotelName'].apply(lambda x: int((x.split())[0]))\n",
        "df_cluster['hotelName'] = df_cluster['hotel_id'].apply(lambda x: hotel_dict[x]) #replace hotel name with corresponding value from hotel_dict\n",
        "df_cluster['topic_id'] = df_cluster['corpus_tfidf'].apply(lambda x: sorted(lda_model_tfidf[x], key=lambda tup: -1*tup[1])[0][0]) #assigns the topic ID for each hotel review based on the highest-scoring topic from the corresponding TF-IDF scores\n",
        "df_cluster.hotel_id = df_cluster.hotel_id.astype(int)\n",
        "\n",
        "df_cluster_trim = df_cluster.drop(['index', 'review_body', 'corpus_tfidf', 'hotel_id'], axis=1) #drop certain columns that are not necessary\n",
        "pivot_table = pd.pivot_table(df_cluster_trim, values='topic_id', index='hotelName', columns='topic_id', aggfunc=len, fill_value=0) #creates a pivot table  that shows the frequency of each topic ID for each hotel name in df_cluster_trim.\n",
        "fig, ax = plt.subplots(figsize=(15,15))\n",
        "sns.heatmap(pivot_table, annot=True, cmap='Blues', ax=ax) #the pivot table is shown as a heatmap\n",
        "for idx, topic in lda_model_tfidf.print_topics(-1):\n",
        "  strings = [t.split('\"')[1] for t in topic.split('+')]\n",
        "  result = ', '.join(strings)\n",
        "  print('Topic: {}: {}'.format(idx, result))"
      ],
      "metadata": {
        "colab": {
          "base_uri": "https://localhost:8080/",
          "height": 947
        },
        "id": "wcr6fswP78b0",
        "outputId": "3d2ad258-8438-4a52-f26b-e846eca33878"
      },
      "execution_count": null,
      "outputs": [
        {
          "output_type": "stream",
          "name": "stdout",
          "text": [
            "Topic: 0: hotel, love, beauti, resort, view, great, stay, room, night, villa\n",
            "Topic: 1: good, hotel, villa, room, nice, breakfast, place, great, clean, love\n",
            "Topic: 2: good, nice, hotel, beach, help, great, place, hostel, clean, room\n",
            "Topic: 3: hotel, resort, servic, great, room, beach, beauti, stay, restaur, love\n"
          ]
        },
        {
          "output_type": "display_data",
          "data": {
            "text/plain": [
              "<Figure size 1080x1080 with 2 Axes>"
            ],
            "image/png": "[encoded data removed]"
          },
          "metadata": {
            "needs_background": "light"
          }
        }
      ]
    },
    {
      "cell_type": "markdown",
      "source": [
        "*  Applied the trained LDA model to the TF-IDF corpus and selects the topic with the highest probability for each document.\n",
        "*  We are grouping the df_cluster_trim dataframe by hotelName and topic_id and counts the number of reviews in each group.\n",
        "*  Created a pivot table that shows the number of reviews for each hotel and topic.\n",
        "* We already created four topics using LDA\n",
        "* The heatmap shows the number of reviews for each hotel and topic\n",
        "\n",
        "For example :\n",
        "*   Canguu Beach Hostel has 6 reviews related to 'topic 0' , 12 reviews related to 'topic 1', 34 reviews related to 'topic 2' and 2 reviews related to 'topic 3'\n",
        "*   The Manison Bali has 17 reviews related to 'topic 0' , 18 reviews related to 'topic 1',8 reviews related to 'topic 2' and 11 reviews related to 'topic 3'\n",
        "\n",
        "\n",
        "\n",
        "\n",
        "\n"
      ],
      "metadata": {
        "id": "ZYI5x3SioBp4"
      }
    },
    {
      "cell_type": "markdown",
      "source": [
        "##Get Number of Each Topic and Map Hotels to their Max Count topic"
      ],
      "metadata": {
        "id": "5bRyG9A5kAz4"
      }
    },
    {
      "cell_type": "code",
      "source": [
        "grouped_df = df_cluster.groupby(['hotelName', 'topic_id']).size().reset_index(name='count') #group by 'hotelName', 'topic_id', and size of each group\n",
        "idx = grouped_df.groupby('hotelName')['count'].idxmax() #finds the index of the maximum value of the count column\n",
        "max_topic_ids = grouped_df.loc[idx][['hotelName', 'topic_id']] #selects the rows of the grouped_df DataFrame that correspond to the maximum count for each hotel, using the index labels in idx\n",
        "max_topic_ids.columns = ['hotelName', 'max_topic_id']\n",
        "print(max_topic_ids.groupby(['max_topic_id']).size())\n",
        "grouped = max_topic_ids.groupby('max_topic_id')['hotelName'].agg(list) #grouped object is a dictionary that maps each max_topic_id to a list of hotels that belong to that topic\n",
        "topic_hotel_dict = {idx: names for idx, names in grouped.items()} #maps each max_topic_id to a list of hotels that belong to that topic\n",
        "pprint(topic_hotel_dict)"
      ],
      "metadata": {
        "colab": {
          "base_uri": "https://localhost:8080/"
        },
        "id": "A2rr1_jHbFLf",
        "outputId": "29e983f2-6d81-482d-cbfd-3a6150c06c6e"
      },
      "execution_count": null,
      "outputs": [
        {
          "output_type": "stream",
          "name": "stdout",
          "text": [
            "max_topic_id\n",
            "0     7\n",
            "1    13\n",
            "2     5\n",
            "3     5\n",
            "dtype: int64\n",
            "{0: ['Bali Santi-Bungalows By The Beach',\n",
            "     'Candi Beach Resort & Spa',\n",
            "     'Indiana Kenanga Luxury Boutique Villas',\n",
            "     'Komune Resort, Keramas Beach Bali',\n",
            "     'Poppies Bali',\n",
            "     'Saranam Resort & Spa',\n",
            "     'Sawah Indah Villa'],\n",
            " 1: ['De Moksha Boutique Resort',\n",
            "     'De Sapphire Cliff Villa',\n",
            "     'Eastin Ashta Resort Canggu',\n",
            "     'H-ostel',\n",
            "     'Hideaway Villas Bali',\n",
            "     'Holiday Inn Resort Bali Benoa',\n",
            "     'Hotel Terrace At Kuta',\n",
            "     'Kano Sari Ubud Villas',\n",
            "     'Pemedal Beach Resort',\n",
            "     'Sankara Resort Ubud',\n",
            "     'The Kayon Resort',\n",
            "     'The Mansion Bali',\n",
            "     'The Tamarind Resort Nusa Lembongan'],\n",
            " 2: ['Bali Bohemia Huts',\n",
            "     'Canggu Beach Hostel',\n",
            "     'Grand Zuri Kuta Bali',\n",
            "     'Hotel Arsa Santhi Nusa Penida',\n",
            "     \"The Cubang Hut's Lembongan\"],\n",
            " 3: ['Alam Sari',\n",
            "     'Grand Hyatt Bali',\n",
            "     'PinkCoco Bali',\n",
            "     'Puri Bagus Candidasa',\n",
            "     'Twin Island Villas']}\n"
          ]
        }
      ]
    },
    {
      "cell_type": "markdown",
      "source": [
        "##Understanding the topics and showing what hotels belong to each topics\n",
        "\n",
        "###Topic: 0: hotel, love, beauti, resort, view, great, stay, room, night, villa\n",
        "\n",
        "--This topics refers to hotels and resorts with great views and villas\n",
        "\n",
        "**These hotels include:** ['Bali Santi-Bungalows By The Beach',\n",
        "     'Candi Beach Resort & Spa',\n",
        "     'Indiana Kenanga Luxury Boutique Villas',\n",
        "     'Komune Resort, Keramas Beach Bali',\n",
        "     'Poppies Bali',\n",
        "     'Saranam Resort & Spa',\n",
        "     'Sawah Indah Villa']\n",
        "\n",
        "###Topic: 1: good, hotel, villa, room, nice, breakfast, place, great, clean, love\n",
        "\n",
        "--This topic refers to hotels that are relatively clean and serve breakfast\n",
        "\n",
        "**These hotels include:** ['De Moksha Boutique Resort',\n",
        "     'De Sapphire Cliff Villa',\n",
        "     'Eastin Ashta Resort Canggu',\n",
        "     'H-ostel',\n",
        "     'Hideaway Villas Bali',\n",
        "     'Holiday Inn Resort Bali Benoa',\n",
        "     'Hotel Terrace At Kuta',\n",
        "     'Kano Sari Ubud Villas',\n",
        "     'Pemedal Beach Resort',\n",
        "     'Sankara Resort Ubud',\n",
        "     'The Kayon Resort',\n",
        "     'The Mansion Bali',\n",
        "     'The Tamarind Resort Nusa Lembongan']\n",
        "\n",
        "###Topic: 2: good, nice, hotel, beach, help, great, place, hostel, clean, room\n",
        "\n",
        "--This topic refers to hotels and hostels that are clean and close to the beach\n",
        "\n",
        "**These hotels include:** ['Bali Bohemia Huts',\n",
        "     'Canggu Beach Hostel',\n",
        "     'Grand Zuri Kuta Bali',\n",
        "     'Hotel Arsa Santhi Nusa Penida',\n",
        "     \"The Cubang Hut's Lembongan\"]\n",
        "\n",
        "###Topic: 3: hotel, resort, servic, great, room, beach, beauti, stay, restaur, love\n",
        "\n",
        "--This topic refers to hotels and resorts that have great service and possibly have a resturant\n",
        "\n",
        "**These hotels include:** ['Alam Sari',\n",
        "     'Grand Hyatt Bali',\n",
        "     'PinkCoco Bali',\n",
        "     'Puri Bagus Candidasa',\n",
        "     'Twin Island Villas']\n"
      ],
      "metadata": {
        "id": "4ot7fOtTaoNE"
      }
    },
    {
      "cell_type": "markdown",
      "source": [
        "#Run SentenceTransformer and FAISS to implement Query-based Search"
      ],
      "metadata": {
        "id": "S_Ed0ip8r9OB"
      }
    },
    {
      "cell_type": "markdown",
      "source": [
        "##Use the SentenceTransformer with 'paraphrase-mpnet-base-v2' and encode it"
      ],
      "metadata": {
        "id": "SMGMycWJsX7Y"
      }
    },
    {
      "cell_type": "markdown",
      "source": [
        "*   We are generating the embeddings for the reviews in the df_cluster DataFrame.\n",
        "*  'paraphrase-mpnet-base-v2' model is a pre-trained transformer model that is designed to generate high-quality embeddings for natural language text.\n",
        "*   encode() method returns a matrix of shape (num_sentences, embedding_size), where each row represents the embedding for a single sentence."
      ],
      "metadata": {
        "id": "0cdjUxzHy0Nq"
      }
    },
    {
      "cell_type": "code",
      "source": [
        "sentences = df_cluster['review_body'].tolist() #converts 'review_body' into a list of sentences.\n",
        "model = SentenceTransformer('paraphrase-mpnet-base-v2') # instantiates a pre-trained sentence embedding model\n",
        "sentence_embeddings = model.encode(sentences) #encode the list of sentences into dense vector representations."
      ],
      "metadata": {
        "id": "Ax8E-sbyt3Tb"
      },
      "execution_count": null,
      "outputs": []
    },
    {
      "cell_type": "markdown",
      "source": [
        "##Use the FAISS Index Flat IP and Generate results for query\n",
        "\n",
        "*   Faiss library is used to build an index of sentence embeddings computed above\n",
        "*   The index is then used to perform approximate nearest neighbor search given a query string.\n",
        "*   The search function returns the 30 most similar reviews to the query, along with the corresponding hotel name and similarity score"
      ],
      "metadata": {
        "id": "r8AwgKf4sl3j"
      }
    },
    {
      "cell_type": "code",
      "source": [
        "hotel_names = df_cluster['hotelName'].tolist()\n",
        "d = sentence_embeddings.shape[1]\n",
        "index = faiss.IndexFlatIP(d) #creates a new index for performing nearest neighbor searches using the IndexFlatIP class\n",
        "index.add(sentence_embeddings) #adds the pre-computed sentence embeddings to the index\n",
        "faiss.write_index(index, 'index_hotel_reviews')\n",
        "index = faiss.read_index('index_hotel_reviews')\n",
        "\n",
        "def search(query, k):\n",
        "    query_vector = model.encode([query]) #encode the query string into a dense vector representation\n",
        "    D,I = index.search(query_vector, k) #uses the index to perform a nearest neighbor search on the query vector and returns the k nearest neighbors\n",
        "    reviews=[sentences[_id] for _id in I.tolist()[0]]\n",
        "    hotel=[hotel_names[name] for name in I.tolist()[0]] #extracts the corresponding hotel names for the k nearest neighbors using the indices returned by the nearest neighbor search.\n",
        "    scores=D.T.tolist() #extracts the similarity scores between the query vector and the k nearest neighbors\n",
        "    for i in range(len(scores)):\n",
        "      scores[i] = scores[i][0]\n",
        "    ret_df=pd.DataFrame({'hotel':hotel,'score':scores,'reviews':reviews}) #this dataframe contains the hotel names, similarity scores, and reviews for the k nearest neighbors.\n",
        "    return ret_df\n",
        "\n",
        "faiss_query = \"I want to stay in a hostel and maybe go surfing if possible\"\n",
        "results = search(faiss_query, 30)\n",
        "results.loc[:5]"
      ],
      "metadata": {
        "id": "fhPKoz8BAFUH",
        "colab": {
          "base_uri": "https://localhost:8080/",
          "height": 238
        },
        "outputId": "6f398e74-fcaa-4f77-ece5-4df1f6899480"
      },
      "execution_count": null,
      "outputs": [
        {
          "output_type": "execute_result",
          "data": {
            "text/plain": [
              "                 hotel     score  \\\n",
              "0  Canggu Beach Hostel  8.461720   \n",
              "1  Canggu Beach Hostel  8.076028   \n",
              "2  Canggu Beach Hostel  7.972932   \n",
              "3  Canggu Beach Hostel  7.783470   \n",
              "4  Canggu Beach Hostel  7.435611   \n",
              "5  Canggu Beach Hostel  7.431964   \n",
              "\n",
              "                                             reviews  \n",
              "0  I really can recommend this hostel for all tho...  \n",
              "1  This is a good hostel for meeting other travel...  \n",
              "2  Great place to meet people if you're a solo tr...  \n",
              "3  A fantastic hostel with a great social scene. ...  \n",
              "4  I would recommend this hostel, its near to the...  \n",
              "5  Lovely place with cool little bungalow type do...  "
            ],
            "text/html": [
              "\n",
              "  <div id=\"df-82c98672-f2d3-4b6d-ae9d-081b0b4e7610\">\n",
              "    <div class=\"colab-df-container\">\n",
              "      <div>\n",
              "<style scoped>\n",
              "    .dataframe tbody tr th:only-of-type {\n",
              "        vertical-align: middle;\n",
              "    }\n",
              "\n",
              "    .dataframe tbody tr th {\n",
              "        vertical-align: top;\n",
              "    }\n",
              "\n",
              "    .dataframe thead th {\n",
              "        text-align: right;\n",
              "    }\n",
              "</style>\n",
              "<table border=\"1\" class=\"dataframe\">\n",
              "  <thead>\n",
              "    <tr style=\"text-align: right;\">\n",
              "      <th></th>\n",
              "      <th>hotel</th>\n",
              "      <th>score</th>\n",
              "      <th>reviews</th>\n",
              "    </tr>\n",
              "  </thead>\n",
              "  <tbody>\n",
              "    <tr>\n",
              "      <th>0</th>\n",
              "      <td>Canggu Beach Hostel</td>\n",
              "      <td>8.461720</td>\n",
              "      <td>I really can recommend this hostel for all tho...</td>\n",
              "    </tr>\n",
              "    <tr>\n",
              "      <th>1</th>\n",
              "      <td>Canggu Beach Hostel</td>\n",
              "      <td>8.076028</td>\n",
              "      <td>This is a good hostel for meeting other travel...</td>\n",
              "    </tr>\n",
              "    <tr>\n",
              "      <th>2</th>\n",
              "      <td>Canggu Beach Hostel</td>\n",
              "      <td>7.972932</td>\n",
              "      <td>Great place to meet people if you're a solo tr...</td>\n",
              "    </tr>\n",
              "    <tr>\n",
              "      <th>3</th>\n",
              "      <td>Canggu Beach Hostel</td>\n",
              "      <td>7.783470</td>\n",
              "      <td>A fantastic hostel with a great social scene. ...</td>\n",
              "    </tr>\n",
              "    <tr>\n",
              "      <th>4</th>\n",
              "      <td>Canggu Beach Hostel</td>\n",
              "      <td>7.435611</td>\n",
              "      <td>I would recommend this hostel, its near to the...</td>\n",
              "    </tr>\n",
              "    <tr>\n",
              "      <th>5</th>\n",
              "      <td>Canggu Beach Hostel</td>\n",
              "      <td>7.431964</td>\n",
              "      <td>Lovely place with cool little bungalow type do...</td>\n",
              "    </tr>\n",
              "  </tbody>\n",
              "</table>\n",
              "</div>\n",
              "      <button class=\"colab-df-convert\" onclick=\"convertToInteractive('df-82c98672-f2d3-4b6d-ae9d-081b0b4e7610')\"\n",
              "              title=\"Convert this dataframe to an interactive table.\"\n",
              "              style=\"display:none;\">\n",
              "        \n",
              "  <svg xmlns=\"http://www.w3.org/2000/svg\" height=\"24px\"viewBox=\"0 0 24 24\"\n",
              "       width=\"24px\">\n",
              "    <path d=\"M0 0h24v24H0V0z\" fill=\"none\"/>\n",
              "    <path d=\"M18.56 5.44l.94 2.06.94-2.06 2.06-.94-2.06-.94-.94-2.06-.94 2.06-2.06.94zm-11 1L8.5 8.5l.94-2.06 2.06-.94-2.06-.94L8.5 2.5l-.94 2.06-2.06.94zm10 10l.94 2.06.94-2.06 2.06-.94-2.06-.94-.94-2.06-.94 2.06-2.06.94z\"/><path d=\"M17.41 7.96l-1.37-1.37c-.4-.4-.92-.59-1.43-.59-.52 0-1.04.2-1.43.59L10.3 9.45l-7.72 7.72c-.78.78-.78 2.05 0 2.83L4 21.41c.39.39.9.59 1.41.59.51 0 1.02-.2 1.41-.59l7.78-7.78 2.81-2.81c.8-.78.8-2.07 0-2.86zM5.41 20L4 18.59l7.72-7.72 1.47 1.35L5.41 20z\"/>\n",
              "  </svg>\n",
              "      </button>\n",
              "      \n",
              "  <style>\n",
              "    .colab-df-container {\n",
              "      display:flex;\n",
              "      flex-wrap:wrap;\n",
              "      gap: 12px;\n",
              "    }\n",
              "\n",
              "    .colab-df-convert {\n",
              "      background-color: #E8F0FE;\n",
              "      border: none;\n",
              "      border-radius: 50%;\n",
              "      cursor: pointer;\n",
              "      display: none;\n",
              "      fill: #1967D2;\n",
              "      height: 32px;\n",
              "      padding: 0 0 0 0;\n",
              "      width: 32px;\n",
              "    }\n",
              "\n",
              "    .colab-df-convert:hover {\n",
              "      background-color: #E2EBFA;\n",
              "      box-shadow: 0px 1px 2px rgba(60, 64, 67, 0.3), 0px 1px 3px 1px rgba(60, 64, 67, 0.15);\n",
              "      fill: #174EA6;\n",
              "    }\n",
              "\n",
              "    [theme=dark] .colab-df-convert {\n",
              "      background-color: #3B4455;\n",
              "      fill: #D2E3FC;\n",
              "    }\n",
              "\n",
              "    [theme=dark] .colab-df-convert:hover {\n",
              "      background-color: #434B5C;\n",
              "      box-shadow: 0px 1px 3px 1px rgba(0, 0, 0, 0.15);\n",
              "      filter: drop-shadow(0px 1px 2px rgba(0, 0, 0, 0.3));\n",
              "      fill: #FFFFFF;\n",
              "    }\n",
              "  </style>\n",
              "\n",
              "      <script>\n",
              "        const buttonEl =\n",
              "          document.querySelector('#df-82c98672-f2d3-4b6d-ae9d-081b0b4e7610 button.colab-df-convert');\n",
              "        buttonEl.style.display =\n",
              "          google.colab.kernel.accessAllowed ? 'block' : 'none';\n",
              "\n",
              "        async function convertToInteractive(key) {\n",
              "          const element = document.querySelector('#df-82c98672-f2d3-4b6d-ae9d-081b0b4e7610');\n",
              "          const dataTable =\n",
              "            await google.colab.kernel.invokeFunction('convertToInteractive',\n",
              "                                                     [key], {});\n",
              "          if (!dataTable) return;\n",
              "\n",
              "          const docLinkHtml = 'Like what you see? Visit the ' +\n",
              "            '<a target=\"_blank\" href=https://colab.research.google.com/notebooks/data_table.ipynb>data table notebook</a>'\n",
              "            + ' to learn more about interactive tables.';\n",
              "          element.innerHTML = '';\n",
              "          dataTable['output_type'] = 'display_data';\n",
              "          await google.colab.output.renderOutput(dataTable, element);\n",
              "          const docLink = document.createElement('div');\n",
              "          docLink.innerHTML = docLinkHtml;\n",
              "          element.appendChild(docLink);\n",
              "        }\n",
              "      </script>\n",
              "    </div>\n",
              "  </div>\n",
              "  "
            ]
          },
          "metadata": {},
          "execution_count": 35
        }
      ]
    },
    {
      "cell_type": "markdown",
      "source": [
        "##Show the top hotels based on the review search query"
      ],
      "metadata": {
        "id": "Jw568yyXszAG"
      }
    },
    {
      "cell_type": "code",
      "source": [
        "faiss_recommendations = results['hotel'].unique() #contains a list of unique hotel names from the search results.\n",
        "for i in range(len(faiss_recommendations)):\n",
        "  print('FAISS Recommendation '+str(i+1)+': '+faiss_recommendations[i])"
      ],
      "metadata": {
        "colab": {
          "base_uri": "https://localhost:8080/"
        },
        "id": "ABoIGLJbD2yg",
        "outputId": "5954408e-5380-4713-c316-d72c9397af3a"
      },
      "execution_count": null,
      "outputs": [
        {
          "output_type": "stream",
          "name": "stdout",
          "text": [
            "FAISS Recommendation 1: Canggu Beach Hostel\n",
            "FAISS Recommendation 2: Hotel Terrace At Kuta\n",
            "FAISS Recommendation 3: H-ostel\n",
            "FAISS Recommendation 4: Eastin Ashta Resort Canggu\n"
          ]
        }
      ]
    },
    {
      "cell_type": "markdown",
      "source": [
        "#Learnings and Reflection\n",
        "\n",
        "From the dataset, we were able to look at various reviews and understand what kind of reviews are left for a hotel for both positive and negative contexts.  We learnt how to preprocess the reviews to ensure that all forms of a given word in a sentence were standardized to a base form of the word. Majority of our reviews had a positive connotation and through the TFIDF LDA model we were able to generate topic modeling \"clusters\" to categorize the reviews from the customers. We determined the optimal number of topics to be around 4 and we kept the number of passes to 2 to prevent some overfitting we encountered. We included the eta and alpha hyperparameters to make sure that the reviews were more evenly spread across the topics generated. One major problem we encountered was that the LDA model is nondeterministic so we had to run it various times to end up with topics that were significantly applicable and spread out in overall distribution. We were then able to group the hotels based on the topic most of their reviews were in and we talked about how these topics related to the environment and conditions of the hotel. LDA was fine for topic modeling but something like Non-negative Matrix Factorization (NMF) could also be tried out for topic modeling in the future. For the SentenceTransformer we used the 'paraphrase-mpnet-base-v2' model as it is trained through \"Paraphrase Adversarial Training\". This model is specifically trained on paraphrase identification, and as such, it is expected to produce high-quality sentence embeddings that capture the semantic meaning of sentences well. The FAISS IndexFlatIP is a type of FAISS index that uses inner product (IP) similarity search to find nearest neighbors. We found the combination of these two to net the best query results in the end. For the query “I want to stay in a hostel and maybe go surfing if possible\", the top 3-5 similar review results all mentioned a hostel and surfing. We get the 30 most similar reviews and recommend the hotels listed in order of similarity score (30 can be changed via the k in the search function). In most cases if the query is specific enough, the first hotel will dominate the search. Overall, we learned some very important basic NLP techniques like topic modeling through LDA and we were able to create a string-based similarity search via sentence transformers and FAISS."
      ],
      "metadata": {
        "id": "zd3PXudO6e56"
      }
    }
  ]
}